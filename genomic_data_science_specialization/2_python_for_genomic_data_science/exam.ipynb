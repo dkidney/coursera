{
 "cells": [
  {
   "cell_type": "markdown",
   "metadata": {},
   "source": [
    "# Final exam"
   ]
  },
  {
   "cell_type": "code",
   "execution_count": 191,
   "metadata": {},
   "outputs": [],
   "source": [
    "import os\n",
    "from pprint import pprint\n",
    "\n",
    "import numpy as np\n",
    "import pandas as pd"
   ]
  },
  {
   "cell_type": "code",
   "execution_count": 24,
   "metadata": {},
   "outputs": [],
   "source": [
    "def read_fasta(path):\n",
    "    assert os.path.isfile(path)\n",
    "    try:\n",
    "        fh = open(path, 'r')\n",
    "    except IOError:\n",
    "        print('error opening file', path)\n",
    "    \n",
    "    seqs = {}\n",
    "    for line in fh:\n",
    "        line = line.rstrip()\n",
    "        if line.startswith('>'):\n",
    "            words = line.split()\n",
    "            name = words[0][1:]\n",
    "            seqs[name] = ''\n",
    "        else:\n",
    "            seqs[name] += line\n",
    "    fh.close()\n",
    "    return seqs"
   ]
  },
  {
   "cell_type": "code",
   "execution_count": 81,
   "metadata": {},
   "outputs": [],
   "source": [
    "#path = f'{os.path.expanduser(\"~\")}/Downloads/dna.example.fasta'\n",
    "path = f'{os.path.expanduser(\"~\")}/Downloads/dna2.fasta'"
   ]
  },
  {
   "cell_type": "code",
   "execution_count": 82,
   "metadata": {},
   "outputs": [],
   "source": [
    "seqs = read_fasta(path)"
   ]
  },
  {
   "cell_type": "markdown",
   "metadata": {},
   "source": [
    "### Q1, Q2, & Q3"
   ]
  },
  {
   "cell_type": "code",
   "execution_count": 202,
   "metadata": {},
   "outputs": [
    {
     "name": "stdout",
     "output_type": "stream",
     "text": [
      "18\n"
     ]
    }
   ],
   "source": [
    "n_seqs = len(seqs)\n",
    "print(n_seqs)"
   ]
  },
  {
   "cell_type": "code",
   "execution_count": 203,
   "metadata": {},
   "outputs": [
    {
     "name": "stdout",
     "output_type": "stream",
     "text": [
      "4894\n",
      "115\n"
     ]
    }
   ],
   "source": [
    "sequence_lengths = [len(v) for k, v in seqs.items()]\n",
    "print(max(sequence_lengths))\n",
    "print(min(sequence_lengths))"
   ]
  },
  {
   "cell_type": "markdown",
   "metadata": {},
   "source": [
    "## Q4: What is the length of the longest ORF appearing in reading frame 2 of any of the sequences?"
   ]
  },
  {
   "cell_type": "code",
   "execution_count": 206,
   "metadata": {},
   "outputs": [],
   "source": [
    "def get_codons_from_seq(seq, frame):\n",
    "    x = seq[(frame - 1):]\n",
    "    return [x[i:i+3] for i in range(0, len(x), 3)]\n",
    "\n",
    "def get_orfs_from_codons(codons):\n",
    "    start = []\n",
    "    stop = []\n",
    "    counter = 0\n",
    "    for i, codon in enumerate(codons):\n",
    "        if codon.upper() == 'ATG':\n",
    "            if len(start) == counter:\n",
    "                start.append(i)\n",
    "        if codon.upper() in ['TAA', 'TAG', 'TGA']:\n",
    "            if len(start) == (counter + 1):\n",
    "                stop.append(i)\n",
    "                counter += 1\n",
    "    df = pd.DataFrame({\n",
    "        'start_codon': start[:len(stop)], \n",
    "        'stop_codon': stop\n",
    "    })\n",
    "    df['n_codons'] = df['stop_codon'] - df['start_codon'] + 1\n",
    "    df['start_base'] = 3 * df['start_codon'] + frame\n",
    "    df['stop_base'] = 3 * df['stop_codon'] + frame\n",
    "    df['n_bases'] = 3 * df['n_codons']\n",
    "    return df\n",
    "\n",
    "def get_orfs_from_seq(seq, frame):\n",
    "    return get_orfs_from_codons(get_codons_from_seq(seq, frame=frame))\n",
    "\n",
    "def get_orfs_from_seqs(seqs, frame):\n",
    "    return {name: get_orfs_from_seq(seq, frame) for name, seq in seqs.items()}    "
   ]
  },
  {
   "cell_type": "code",
   "execution_count": 207,
   "metadata": {},
   "outputs": [],
   "source": [
    "orfs = {frame: get_orfs_from_seqs(seqs, frame=frame) for frame in [1,2,3]}"
   ]
  },
  {
   "cell_type": "code",
   "execution_count": 208,
   "metadata": {},
   "outputs": [],
   "source": [
    "res = {}\n",
    "for frame in [1,2,3]:\n",
    "    res[frame] = {\n",
    "        'longest_orf_name': '',\n",
    "        'longest_orf_value': 0,\n",
    "    }\n",
    "    for name in orfs[frame]:\n",
    "        _ = orfs[frame][name]['n_bases'].max()\n",
    "        if _ > res[frame]['longest_orf_value']:\n",
    "            res[frame]['longest_orf_name'] = name\n",
    "            res[frame]['longest_orf_value'] = _\n",
    "#pprint(res)"
   ]
  },
  {
   "cell_type": "code",
   "execution_count": 209,
   "metadata": {},
   "outputs": [
    {
     "name": "stdout",
     "output_type": "stream",
     "text": [
      "gi|142022655|gb|EQ086233.1|16\n",
      "1458\n"
     ]
    }
   ],
   "source": [
    "print(res[2]['longest_orf_name'])\n",
    "print(res[2]['longest_orf_value'])"
   ]
  },
  {
   "cell_type": "markdown",
   "metadata": {},
   "source": [
    "## Q5: What is the starting position of the longest ORF in reading frame 3 in any of the sequences?"
   ]
  },
  {
   "cell_type": "code",
   "execution_count": 194,
   "metadata": {},
   "outputs": [
    {
     "data": {
      "text/html": [
       "<div>\n",
       "<style scoped>\n",
       "    .dataframe tbody tr th:only-of-type {\n",
       "        vertical-align: middle;\n",
       "    }\n",
       "\n",
       "    .dataframe tbody tr th {\n",
       "        vertical-align: top;\n",
       "    }\n",
       "\n",
       "    .dataframe thead th {\n",
       "        text-align: right;\n",
       "    }\n",
       "</style>\n",
       "<table border=\"1\" class=\"dataframe\">\n",
       "  <thead>\n",
       "    <tr style=\"text-align: right;\">\n",
       "      <th></th>\n",
       "      <th>start_codon</th>\n",
       "      <th>stop_codon</th>\n",
       "      <th>n_codons</th>\n",
       "      <th>start_base</th>\n",
       "      <th>stop_base</th>\n",
       "      <th>n_bases</th>\n",
       "    </tr>\n",
       "  </thead>\n",
       "  <tbody>\n",
       "    <tr>\n",
       "      <th>0</th>\n",
       "      <td>6</td>\n",
       "      <td>16</td>\n",
       "      <td>11</td>\n",
       "      <td>21</td>\n",
       "      <td>51</td>\n",
       "      <td>33</td>\n",
       "    </tr>\n",
       "    <tr>\n",
       "      <th>1</th>\n",
       "      <td>58</td>\n",
       "      <td>176</td>\n",
       "      <td>119</td>\n",
       "      <td>177</td>\n",
       "      <td>531</td>\n",
       "      <td>357</td>\n",
       "    </tr>\n",
       "    <tr>\n",
       "      <th>2</th>\n",
       "      <td>211</td>\n",
       "      <td>817</td>\n",
       "      <td>607</td>\n",
       "      <td>636</td>\n",
       "      <td>2454</td>\n",
       "      <td>1821</td>\n",
       "    </tr>\n",
       "  </tbody>\n",
       "</table>\n",
       "</div>"
      ],
      "text/plain": [
       "   start_codon  stop_codon  n_codons  start_base  stop_base  n_bases\n",
       "0            6          16        11          21         51       33\n",
       "1           58         176       119         177        531      357\n",
       "2          211         817       607         636       2454     1821"
      ]
     },
     "execution_count": 194,
     "metadata": {},
     "output_type": "execute_result"
    }
   ],
   "source": [
    "frame = 3\n",
    "orfs[frame][res[frame]['longest_orf_name']]"
   ]
  },
  {
   "cell_type": "markdown",
   "metadata": {},
   "source": [
    "## Q6: What is the length of the longest ORF appearing in any sequence and in any forward reading frame?"
   ]
  },
  {
   "cell_type": "code",
   "execution_count": 195,
   "metadata": {},
   "outputs": [
    {
     "name": "stdout",
     "output_type": "stream",
     "text": [
      "{1: {'longest_orf_name': 'gi|142022655|gb|EQ086233.1|45',\n",
      "     'longest_orf_value': np.int64(2394)},\n",
      " 2: {'longest_orf_name': 'gi|142022655|gb|EQ086233.1|16',\n",
      "     'longest_orf_value': np.int64(1458)},\n",
      " 3: {'longest_orf_name': 'gi|142022655|gb|EQ086233.1|527',\n",
      "     'longest_orf_value': np.int64(1821)}}\n"
     ]
    }
   ],
   "source": [
    "pprint(res)"
   ]
  },
  {
   "cell_type": "markdown",
   "metadata": {},
   "source": [
    "## Q7: What is the length of the longest forward ORF that appears in the sequence with the identifier  gi|142022655|gb|EQ086233.1|16?"
   ]
  },
  {
   "cell_type": "code",
   "execution_count": 201,
   "metadata": {},
   "outputs": [
    {
     "name": "stdout",
     "output_type": "stream",
     "text": [
      "{1:    start_codon  stop_codon  n_codons  start_base  stop_base  n_bases\n",
      "0           88         109        22         267        330       66\n",
      "1          192         200         9         579        603       27\n",
      "2          424         497        74        1275       1494      222\n",
      "3          509        1011       503        1530       3036     1509\n",
      "4         1573        1595        23        4722       4788       69,\n",
      " 2:    start_codon  stop_codon  n_codons  start_base  stop_base  n_bases\n",
      "0          153         284       132         462        855      396\n",
      "1          301         506       206         906       1521      618\n",
      "2          598         650        53        1797       1953      159\n",
      "3          659         707        49        1980       2124      147\n",
      "4         1023        1508       486        3072       4527     1458,\n",
      " 3:    start_codon  stop_codon  n_codons  start_base  stop_base  n_bases\n",
      "0           36         474       439         111       1425     1317\n",
      "1          479        1026       548        1440       3081     1644\n",
      "2         1034        1077        44        3105       3234      132\n",
      "3         1133        1152        20        3402       3459       60\n",
      "4         1209        1228        20        3630       3687       60\n",
      "5         1265        1295        31        3798       3888       93\n",
      "6         1382        1432        51        4149       4299      153\n",
      "7         1525        1554        30        4578       4665       90}\n"
     ]
    }
   ],
   "source": [
    "name = 'gi|142022655|gb|EQ086233.1|16'\n",
    "pprint({frame: orfs[frame][name] for frame in [1,2,3]})"
   ]
  },
  {
   "cell_type": "markdown",
   "metadata": {},
   "source": [
    "## Q8: Find the most frequently occurring repeat of length 6 in all sequences. How many times does it occur in all?"
   ]
  },
  {
   "cell_type": "code",
   "execution_count": 265,
   "metadata": {},
   "outputs": [],
   "source": [
    "from collections import Counter\n",
    "\n",
    "def get_subsequences_from_seq(seq, n):\n",
    "    return [seq[i:(i+n)] for i in range(len(seq)-n+1)]\n",
    "\n",
    "def count_subsequences(subseqs):\n",
    "    df = pd.DataFrame({\n",
    "        'subseq': Counter(subseqs).keys(),\n",
    "        'n_repeats': Counter(subseqs).values(),\n",
    "    })\n",
    "    return df\n",
    "\n",
    "def get_subsequence_counts_from_seq(seq, n):\n",
    "    subseqs = get_subsequences_from_seq(seq, n)\n",
    "    return count_subsequences(subseqs)\n",
    "\n",
    "def get_subsequence_counts_from_seqs(seqs, n):\n",
    "    counts = {name: get_subsequence_counts_from_seq(seq, n=n) for name, seq in seqs.items()}\n",
    "    df = pd.concat(counts)\\\n",
    "        .reset_index(level=0)\\\n",
    "        .rename(columns={'level_0':'name'})\\\n",
    "        .groupby('subseq')\\\n",
    "        .sum('n_repeats')\\\n",
    "        .sort_values('n_repeats', ascending=False)\\\n",
    "        .reset_index()\n",
    "    return df"
   ]
  },
  {
   "cell_type": "code",
   "execution_count": 266,
   "metadata": {},
   "outputs": [
    {
     "data": {
      "text/html": [
       "<div>\n",
       "<style scoped>\n",
       "    .dataframe tbody tr th:only-of-type {\n",
       "        vertical-align: middle;\n",
       "    }\n",
       "\n",
       "    .dataframe tbody tr th {\n",
       "        vertical-align: top;\n",
       "    }\n",
       "\n",
       "    .dataframe thead th {\n",
       "        text-align: right;\n",
       "    }\n",
       "</style>\n",
       "<table border=\"1\" class=\"dataframe\">\n",
       "  <thead>\n",
       "    <tr style=\"text-align: right;\">\n",
       "      <th></th>\n",
       "      <th>subseq</th>\n",
       "      <th>n_repeats</th>\n",
       "    </tr>\n",
       "  </thead>\n",
       "  <tbody>\n",
       "    <tr>\n",
       "      <th>0</th>\n",
       "      <td>GCGCGC</td>\n",
       "      <td>153</td>\n",
       "    </tr>\n",
       "    <tr>\n",
       "      <th>1</th>\n",
       "      <td>CGCGCG</td>\n",
       "      <td>151</td>\n",
       "    </tr>\n",
       "    <tr>\n",
       "      <th>2</th>\n",
       "      <td>GCCGCG</td>\n",
       "      <td>147</td>\n",
       "    </tr>\n",
       "    <tr>\n",
       "      <th>3</th>\n",
       "      <td>GCGCCG</td>\n",
       "      <td>135</td>\n",
       "    </tr>\n",
       "    <tr>\n",
       "      <th>4</th>\n",
       "      <td>CGCGGC</td>\n",
       "      <td>131</td>\n",
       "    </tr>\n",
       "  </tbody>\n",
       "</table>\n",
       "</div>"
      ],
      "text/plain": [
       "   subseq  n_repeats\n",
       "0  GCGCGC        153\n",
       "1  CGCGCG        151\n",
       "2  GCCGCG        147\n",
       "3  GCGCCG        135\n",
       "4  CGCGGC        131"
      ]
     },
     "execution_count": 266,
     "metadata": {},
     "output_type": "execute_result"
    }
   ],
   "source": [
    "df = get_subsequence_counts_from_seqs(seqs, n=6)\n",
    "df.head()"
   ]
  },
  {
   "cell_type": "markdown",
   "metadata": {},
   "source": [
    "## Q9:Find all repeats of length 12 in the input file. Let's use Max to specify the number of copies of the most frequent repeat of length 12.  How many different 12-base sequences occur Max times?"
   ]
  },
  {
   "cell_type": "code",
   "execution_count": 267,
   "metadata": {},
   "outputs": [
    {
     "data": {
      "text/html": [
       "<div>\n",
       "<style scoped>\n",
       "    .dataframe tbody tr th:only-of-type {\n",
       "        vertical-align: middle;\n",
       "    }\n",
       "\n",
       "    .dataframe tbody tr th {\n",
       "        vertical-align: top;\n",
       "    }\n",
       "\n",
       "    .dataframe thead th {\n",
       "        text-align: right;\n",
       "    }\n",
       "</style>\n",
       "<table border=\"1\" class=\"dataframe\">\n",
       "  <thead>\n",
       "    <tr style=\"text-align: right;\">\n",
       "      <th></th>\n",
       "      <th>subseq</th>\n",
       "      <th>n_repeats</th>\n",
       "    </tr>\n",
       "  </thead>\n",
       "  <tbody>\n",
       "    <tr>\n",
       "      <th>0</th>\n",
       "      <td>TCGCCATTCGCC</td>\n",
       "      <td>10</td>\n",
       "    </tr>\n",
       "    <tr>\n",
       "      <th>1</th>\n",
       "      <td>ATTCGCCATTCG</td>\n",
       "      <td>10</td>\n",
       "    </tr>\n",
       "    <tr>\n",
       "      <th>2</th>\n",
       "      <td>CATTCGCCATTC</td>\n",
       "      <td>10</td>\n",
       "    </tr>\n",
       "    <tr>\n",
       "      <th>3</th>\n",
       "      <td>TTCGCCATTCGC</td>\n",
       "      <td>10</td>\n",
       "    </tr>\n",
       "    <tr>\n",
       "      <th>4</th>\n",
       "      <td>GCCATTCGCCAT</td>\n",
       "      <td>9</td>\n",
       "    </tr>\n",
       "    <tr>\n",
       "      <th>5</th>\n",
       "      <td>CGCCATTCGCCA</td>\n",
       "      <td>9</td>\n",
       "    </tr>\n",
       "    <tr>\n",
       "      <th>6</th>\n",
       "      <td>CCATTCGCCATT</td>\n",
       "      <td>9</td>\n",
       "    </tr>\n",
       "    <tr>\n",
       "      <th>7</th>\n",
       "      <td>CCAGGTCGCGCC</td>\n",
       "      <td>3</td>\n",
       "    </tr>\n",
       "    <tr>\n",
       "      <th>8</th>\n",
       "      <td>CCGGCGCGGCCG</td>\n",
       "      <td>3</td>\n",
       "    </tr>\n",
       "    <tr>\n",
       "      <th>9</th>\n",
       "      <td>CGACGAGCTGGT</td>\n",
       "      <td>3</td>\n",
       "    </tr>\n",
       "  </tbody>\n",
       "</table>\n",
       "</div>"
      ],
      "text/plain": [
       "         subseq  n_repeats\n",
       "0  TCGCCATTCGCC         10\n",
       "1  ATTCGCCATTCG         10\n",
       "2  CATTCGCCATTC         10\n",
       "3  TTCGCCATTCGC         10\n",
       "4  GCCATTCGCCAT          9\n",
       "5  CGCCATTCGCCA          9\n",
       "6  CCATTCGCCATT          9\n",
       "7  CCAGGTCGCGCC          3\n",
       "8  CCGGCGCGGCCG          3\n",
       "9  CGACGAGCTGGT          3"
      ]
     },
     "execution_count": 267,
     "metadata": {},
     "output_type": "execute_result"
    }
   ],
   "source": [
    "df = get_subsequence_counts_from_seqs(seqs, n=12)\n",
    "df.head(10)"
   ]
  },
  {
   "cell_type": "markdown",
   "metadata": {},
   "source": [
    "## Q10: Which one of the following repeats of length 7 has a maximum number of occurrences?"
   ]
  },
  {
   "cell_type": "code",
   "execution_count": 268,
   "metadata": {},
   "outputs": [],
   "source": [
    "df = get_subsequence_counts_from_seqs(seqs, n=7)"
   ]
  },
  {
   "cell_type": "code",
   "execution_count": 269,
   "metadata": {},
   "outputs": [
    {
     "data": {
      "text/html": [
       "<div>\n",
       "<style scoped>\n",
       "    .dataframe tbody tr th:only-of-type {\n",
       "        vertical-align: middle;\n",
       "    }\n",
       "\n",
       "    .dataframe tbody tr th {\n",
       "        vertical-align: top;\n",
       "    }\n",
       "\n",
       "    .dataframe thead th {\n",
       "        text-align: right;\n",
       "    }\n",
       "</style>\n",
       "<table border=\"1\" class=\"dataframe\">\n",
       "  <thead>\n",
       "    <tr style=\"text-align: right;\">\n",
       "      <th></th>\n",
       "      <th>subseq</th>\n",
       "      <th>n_repeats</th>\n",
       "    </tr>\n",
       "  </thead>\n",
       "  <tbody>\n",
       "    <tr>\n",
       "      <th>0</th>\n",
       "      <td>CGCGCCG</td>\n",
       "      <td>63</td>\n",
       "    </tr>\n",
       "    <tr>\n",
       "      <th>40</th>\n",
       "      <td>TGCGCGC</td>\n",
       "      <td>36</td>\n",
       "    </tr>\n",
       "    <tr>\n",
       "      <th>709</th>\n",
       "      <td>CATCGCC</td>\n",
       "      <td>13</td>\n",
       "    </tr>\n",
       "    <tr>\n",
       "      <th>5497</th>\n",
       "      <td>AATGGCA</td>\n",
       "      <td>2</td>\n",
       "    </tr>\n",
       "  </tbody>\n",
       "</table>\n",
       "</div>"
      ],
      "text/plain": [
       "       subseq  n_repeats\n",
       "0     CGCGCCG         63\n",
       "40    TGCGCGC         36\n",
       "709   CATCGCC         13\n",
       "5497  AATGGCA          2"
      ]
     },
     "execution_count": 269,
     "metadata": {},
     "output_type": "execute_result"
    }
   ],
   "source": [
    "df.loc[df['subseq'].isin(['CATCGCC', 'TGCGCGC', 'AATGGCA', 'CGCGCCG']), :]"
   ]
  },
  {
   "cell_type": "code",
   "execution_count": null,
   "metadata": {},
   "outputs": [],
   "source": []
  }
 ],
 "metadata": {
  "kernelspec": {
   "display_name": ".venv",
   "language": "python",
   "name": "python3"
  },
  "language_info": {
   "codemirror_mode": {
    "name": "ipython",
    "version": 3
   },
   "file_extension": ".py",
   "mimetype": "text/x-python",
   "name": "python",
   "nbconvert_exporter": "python",
   "pygments_lexer": "ipython3",
   "version": "3.11.11"
  }
 },
 "nbformat": 4,
 "nbformat_minor": 2
}
