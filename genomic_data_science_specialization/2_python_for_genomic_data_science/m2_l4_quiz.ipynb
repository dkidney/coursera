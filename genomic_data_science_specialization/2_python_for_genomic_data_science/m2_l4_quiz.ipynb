{
 "cells": [
  {
   "cell_type": "markdown",
   "metadata": {},
   "source": [
    "## Q3"
   ]
  },
  {
   "cell_type": "code",
   "execution_count": 4,
   "metadata": {},
   "outputs": [
    {
     "name": "stdout",
     "output_type": "stream",
     "text": [
      "11\n",
      "2048\n"
     ]
    }
   ],
   "source": [
    "i=1\n",
    "j=0\n",
    "while i< 2048 :\n",
    "    j+=1\n",
    "    i=2*i\n",
    "print(j)\n",
    "print(i)"
   ]
  },
  {
   "cell_type": "markdown",
   "metadata": {},
   "source": [
    "## Q5"
   ]
  },
  {
   "cell_type": "code",
   "execution_count": 21,
   "metadata": {},
   "outputs": [],
   "source": [
    "seq = 'abcde'"
   ]
  },
  {
   "cell_type": "code",
   "execution_count": 22,
   "metadata": {},
   "outputs": [
    {
     "name": "stdout",
     "output_type": "stream",
     "text": [
      "a\n",
      "ab\n",
      "b\n",
      "abc\n",
      "bc\n",
      "c\n",
      "abcd\n",
      "bcd\n",
      "cd\n",
      "d\n"
     ]
    }
   ],
   "source": [
    "# no changes\n",
    "for i in range(len(seq)) :     # line 1\n",
    "        for j in range(i) :        # line 2\n",
    "                print(seq[j:i])     # line 3"
   ]
  },
  {
   "cell_type": "code",
   "execution_count": 23,
   "metadata": {},
   "outputs": [
    {
     "name": "stdout",
     "output_type": "stream",
     "text": [
      "a\n",
      "ab\n",
      "b\n",
      "abc\n",
      "bc\n",
      "c\n",
      "abcd\n",
      "bcd\n",
      "cd\n",
      "d\n",
      "abcde\n",
      "bcde\n",
      "cde\n",
      "de\n",
      "e\n"
     ]
    }
   ],
   "source": [
    "# only B\n",
    "for i in range(len(seq)+1) :\n",
    "        for j in range(i) :        # line 2\n",
    "                print(seq[j:i])     # line 3"
   ]
  },
  {
   "cell_type": "code",
   "execution_count": 24,
   "metadata": {},
   "outputs": [
    {
     "name": "stdout",
     "output_type": "stream",
     "text": [
      "ab\n",
      "abc\n",
      "bc\n",
      "abcd\n",
      "bcd\n",
      "cd\n",
      "abcde\n",
      "bcde\n",
      "cde\n",
      "de\n",
      "abcde\n",
      "bcde\n",
      "cde\n",
      "de\n",
      "e\n"
     ]
    }
   ],
   "source": [
    "# B and C\n",
    "for i in range(len(seq)+1) :\n",
    "        for j in range(i) :        # line 2\n",
    "                print(seq[j:i+1])"
   ]
  },
  {
   "cell_type": "code",
   "execution_count": 25,
   "metadata": {},
   "outputs": [
    {
     "name": "stdout",
     "output_type": "stream",
     "text": [
      "a\n",
      "ab\n",
      "b\n",
      "abc\n",
      "bc\n",
      "c\n",
      "abcd\n",
      "bcd\n",
      "cd\n",
      "d\n",
      "abcde\n",
      "bcde\n",
      "cde\n",
      "de\n",
      "e\n"
     ]
    }
   ],
   "source": [
    "# C and D\n",
    "for i in range(len(seq)) :     # line 1\n",
    "        for j in range(i+1) :\n",
    "                print(seq[j:i+1])"
   ]
  },
  {
   "cell_type": "code",
   "execution_count": 14,
   "metadata": {},
   "outputs": [
    {
     "name": "stdout",
     "output_type": "stream",
     "text": [
      "a\n",
      "ab\n",
      "b\n",
      "abc\n",
      "bc\n",
      "c\n",
      "abcd\n",
      "bcd\n",
      "cd\n",
      "d\n",
      "abcd\n",
      "bcd\n",
      "cd\n",
      "d\n",
      "\n"
     ]
    }
   ],
   "source": [
    "# B, C and D\n",
    "for i in range(len(seq)+1) :\n",
    "        for j in range(i+1) :\n",
    "                print(seq[j:i+1])"
   ]
  },
  {
   "cell_type": "markdown",
   "metadata": {},
   "source": [
    "## Q6"
   ]
  },
  {
   "cell_type": "code",
   "execution_count": 26,
   "metadata": {},
   "outputs": [],
   "source": [
    "seq = 'abcde'"
   ]
  },
  {
   "cell_type": "code",
   "execution_count": 46,
   "metadata": {},
   "outputs": [
    {
     "name": "stdout",
     "output_type": "stream",
     "text": [
      "a\n",
      "ab\n",
      "b\n",
      "abc\n",
      "bc\n",
      "c\n",
      "abcd\n",
      "bcd\n",
      "cd\n",
      "d\n"
     ]
    }
   ],
   "source": [
    "# for loop written by the student\n",
    "for i in range(len(seq)) :     # line 1\n",
    "    for j in range(i) :        # line 2\n",
    "        print(seq[j:i])     # line 3"
   ]
  },
  {
   "cell_type": "code",
   "execution_count": 40,
   "metadata": {},
   "outputs": [],
   "source": [
    "# A = infinite loop\n",
    "#i=0 \n",
    "#while i<len(seq) :\n",
    "#    j=0 \n",
    "#    while(j<i) :\n",
    "#        print(seq[j:i]) "
   ]
  },
  {
   "cell_type": "code",
   "execution_count": 41,
   "metadata": {},
   "outputs": [
    {
     "name": "stdout",
     "output_type": "stream",
     "text": [
      "b\n",
      "bc\n",
      "c\n",
      "bcd\n",
      "cd\n",
      "d\n"
     ]
    }
   ],
   "source": [
    "# B = not enough strings generated \n",
    "i=1\n",
    "while i<len(seq) :\n",
    "    j=1\n",
    "    while(j<i) :\n",
    "        print(seq[j:i])\n",
    "        j=j+1\n",
    "    i=i+1"
   ]
  },
  {
   "cell_type": "code",
   "execution_count": 42,
   "metadata": {},
   "outputs": [
    {
     "name": "stdout",
     "output_type": "stream",
     "text": [
      "a\n",
      "ab\n",
      "b\n",
      "abc\n",
      "bc\n",
      "c\n",
      "abcd\n",
      "bcd\n",
      "cd\n",
      "d\n"
     ]
    }
   ],
   "source": [
    "# C = not enough strings generated \n",
    "i=0 \n",
    "while i<len(seq) :\n",
    "    j=0 \n",
    "    while(j<i) :\n",
    "        print(seq[j:i])\n",
    "        j+=1\n",
    "    i+=1"
   ]
  },
  {
   "cell_type": "code",
   "execution_count": 43,
   "metadata": {},
   "outputs": [
    {
     "name": "stdout",
     "output_type": "stream",
     "text": [
      "abcde\n",
      "bcde\n",
      "cde\n",
      "de\n",
      "e\n",
      "\n"
     ]
    }
   ],
   "source": [
    "# D = not enough strings generated \n",
    "while i<len(seq)+1 :\n",
    "    j=0\n",
    "    while(j<i+1) :\n",
    "        print(seq[j:i])\n",
    "        j=j+1\n",
    "    i=i+1"
   ]
  },
  {
   "cell_type": "code",
   "execution_count": 45,
   "metadata": {},
   "outputs": [],
   "source": [
    "# E = infinte loop\n",
    "#i=1\n",
    "#while i<len(seq)+1 :\n",
    "#    j=1\n",
    "#    while(j<i+1) :\n",
    "#        print(seq[j:i])"
   ]
  },
  {
   "cell_type": "code",
   "execution_count": 38,
   "metadata": {},
   "outputs": [],
   "source": [
    "# F = infinite loop\n",
    "#i=0\n",
    "#while i<len(seq) :\n",
    "#      j=i\n",
    "#      while(j>0) :\n",
    "#            print(seq[j:i])\n",
    "#            j=j+1\n",
    "#      i=i+1"
   ]
  },
  {
   "cell_type": "markdown",
   "metadata": {},
   "source": [
    "## Q8"
   ]
  },
  {
   "cell_type": "code",
   "execution_count": 47,
   "metadata": {},
   "outputs": [],
   "source": [
    "mylist = [1,2,2,3,4,5]"
   ]
  },
  {
   "cell_type": "code",
   "execution_count": 48,
   "metadata": {},
   "outputs": [
    {
     "name": "stdout",
     "output_type": "stream",
     "text": [
      "True\n",
      "{1: True, 2: True}\n"
     ]
    }
   ],
   "source": [
    "d = {}\n",
    "result = False\n",
    "for x in mylist:\n",
    "    if x in d:\n",
    "        result=True\n",
    "        break\n",
    "    d[x] = True\n",
    "print(result)\n",
    "print(d)"
   ]
  },
  {
   "cell_type": "code",
   "execution_count": 49,
   "metadata": {},
   "outputs": [
    {
     "name": "stdout",
     "output_type": "stream",
     "text": [
      "True\n",
      "{1: True, 2: True, 3: True, 4: True, 5: True}\n"
     ]
    }
   ],
   "source": [
    "d = {}\n",
    "result = False\n",
    "for x in mylist:\n",
    "    if not x in d:\n",
    "        d[x]=True\n",
    "        continue\n",
    "    result = True\n",
    "print(result)\n",
    "print(d)"
   ]
  },
  {
   "cell_type": "markdown",
   "metadata": {},
   "source": [
    "## Q9"
   ]
  },
  {
   "cell_type": "code",
   "execution_count": 50,
   "metadata": {},
   "outputs": [],
   "source": [
    "x = -1000001"
   ]
  },
  {
   "cell_type": "code",
   "execution_count": 53,
   "metadata": {},
   "outputs": [],
   "source": [
    "x =  1000001"
   ]
  },
  {
   "cell_type": "code",
   "execution_count": 54,
   "metadata": {},
   "outputs": [
    {
     "name": "stdout",
     "output_type": "stream",
     "text": [
      "big\n"
     ]
    }
   ],
   "source": [
    "if x>10 or x<-10: \n",
    "    print('big')\n",
    "elif x>1000000: \n",
    "    print('very big')\n",
    "elif x<-1000000: \n",
    "    print('very big')\n",
    "else: \n",
    "    print('small')"
   ]
  },
  {
   "cell_type": "code",
   "execution_count": 55,
   "metadata": {},
   "outputs": [
    {
     "name": "stdout",
     "output_type": "stream",
     "text": [
      "big\n"
     ]
    }
   ],
   "source": [
    "if x > 10 or x < -10: print('big')\n",
    "elif x > 1000000: print('very big')\n",
    "elif x< -1000000: print('very big')\n",
    "else : print('small')"
   ]
  },
  {
   "cell_type": "code",
   "execution_count": null,
   "metadata": {},
   "outputs": [],
   "source": []
  }
 ],
 "metadata": {
  "kernelspec": {
   "display_name": ".venv",
   "language": "python",
   "name": "python3"
  },
  "language_info": {
   "codemirror_mode": {
    "name": "ipython",
    "version": 3
   },
   "file_extension": ".py",
   "mimetype": "text/x-python",
   "name": "python",
   "nbconvert_exporter": "python",
   "pygments_lexer": "ipython3",
   "version": "3.8.19"
  }
 },
 "nbformat": 4,
 "nbformat_minor": 2
}
