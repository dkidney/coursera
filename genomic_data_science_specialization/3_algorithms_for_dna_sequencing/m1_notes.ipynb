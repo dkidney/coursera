{
 "cells": [
  {
   "cell_type": "markdown",
   "metadata": {},
   "source": [
    "Course material on github:\n",
    "\n",
    "* https://github.com/BenLangmead/ads1-slides\n",
    "\n",
    "* https://github.com/BenLangmead/ads1-notebooks"
   ]
  },
  {
   "cell_type": "markdown",
   "metadata": {},
   "source": [
    "How is computer science is applied to analyzing DNA sequencing data? E.g.\n",
    "\n",
    "* to study rare genetic diseases in children\n",
    "\n",
    "* to sequence the genomes of ancient humans to learn more about human origins and evolution and patterns of migration\n",
    "\n",
    "* to study tumors of people who have cancer to try to better figure out how to treat that patient's cancer\n",
    "\n",
    "* to study the vast number of microbes, bacteria and such that live inside our bodies, especially in our guts, and help us do things like digest food\n",
    "\n",
    "* to study the basic ways in which genomes work. To answer basic questions, like what does all the DNA and the genome do? How does the genome work?\n"
   ]
  },
  {
   "cell_type": "markdown",
   "metadata": {},
   "source": [
    "In the late 90s or so, there were two parallel efforts to sequence the human genome. A point they disagreed on was the practicality of solving a particular computational problem known as the **de novo shotgun assembly problem**. \n",
    "\n",
    "First generation sequencing also called 'Sanger sequencing'. Used by original human genome project.\n",
    "\n",
    "2007: second sequencing or next gen sequencing - i.e.massively parallel sequencing.\n",
    "\n"
   ]
  },
  {
   "cell_type": "code",
   "execution_count": 4,
   "metadata": {},
   "outputs": [
    {
     "name": "stdout",
     "output_type": "stream",
     "text": [
      "TTGGCTCTAT\n"
     ]
    }
   ],
   "source": [
    "import random\n",
    "\n",
    "seq = ''\n",
    "for _ in range(10):\n",
    "    seq += random.choice('ATCG')\n",
    "print(seq)\n"
   ]
  },
  {
   "cell_type": "code",
   "execution_count": 7,
   "metadata": {},
   "outputs": [
    {
     "name": "stdout",
     "output_type": "stream",
     "text": [
      "GACAGAGCTA\n"
     ]
    }
   ],
   "source": [
    "seq = ''.join([random.choice('ATCG') for _ in range(10)])\n",
    "print(seq)"
   ]
  },
  {
   "cell_type": "code",
   "execution_count": 7,
   "metadata": {},
   "outputs": [],
   "source": [
    "def phred33_to_q(qual):\n",
    "    return ord(qual) - 33\n",
    "\n",
    "def q_to_phred33(qual):\n",
    "    return chr(qual + 33)\n",
    "\n",
    "assert 33 == phred33_to_q(q_to_phred33(33))\n",
    "assert 'A' == q_to_phred33(phred33_to_q('A'))\n"
   ]
  },
  {
   "cell_type": "code",
   "execution_count": 9,
   "metadata": {},
   "outputs": [
    {
     "data": {
      "text/plain": [
       "[0, 0, 0, 0, 0]"
      ]
     },
     "execution_count": 9,
     "metadata": {},
     "output_type": "execute_result"
    }
   ],
   "source": [
    "[0] * 5"
   ]
  },
  {
   "cell_type": "code",
   "execution_count": 11,
   "metadata": {},
   "outputs": [
    {
     "data": {
      "image/png": "[encoded data removed]",
      "text/plain": [
       "<Figure size 640x480 with 1 Axes>"
      ]
     },
     "metadata": {},
     "output_type": "display_data"
    }
   ],
   "source": [
    "%matplotlib inline\n",
    "import matplotlib.pyplot as plt\n",
    "\n",
    "h = [0,1,2,3,4,5,4,3,2,1,0]\n",
    "plt.bar(range(len(h)), h)\n",
    "plt.show()"
   ]
  },
  {
   "cell_type": "markdown",
   "metadata": {},
   "source": [
    "Human gc content is ~0.57"
   ]
  },
  {
   "cell_type": "code",
   "execution_count": 12,
   "metadata": {},
   "outputs": [
    {
     "data": {
      "text/plain": [
       "37"
      ]
     },
     "execution_count": 12,
     "metadata": {},
     "output_type": "execute_result"
    }
   ],
   "source": [
    "word = 'asdf'\n",
    "text = 'lkjgldkjfgsdlkfjg;lfjkgldskgfjsldfkgjasdfkj;lkj;ldkfjg;lkj'\n",
    "text.find(word)"
   ]
  },
  {
   "cell_type": "markdown",
   "metadata": {},
   "source": [
    "in naive pattern matching\n",
    "\n",
    "if text T has length `y`\n",
    "\n",
    "and pattern P has length `x`\n",
    "\n",
    "then there are `y - x + 1` possible alignments\n",
    "\n",
    "the greatest number of character comparisons possible is `x * (y - x + 1)`"
   ]
  },
  {
   "cell_type": "markdown",
   "metadata": {},
   "source": []
  }
 ],
 "metadata": {
  "kernelspec": {
   "display_name": ".venv",
   "language": "python",
   "name": "python3"
  },
  "language_info": {
   "codemirror_mode": {
    "name": "ipython",
    "version": 3
   },
   "file_extension": ".py",
   "mimetype": "text/x-python",
   "name": "python",
   "nbconvert_exporter": "python",
   "pygments_lexer": "ipython3",
   "version": "3.11.11"
  }
 },
 "nbformat": 4,
 "nbformat_minor": 2
}
