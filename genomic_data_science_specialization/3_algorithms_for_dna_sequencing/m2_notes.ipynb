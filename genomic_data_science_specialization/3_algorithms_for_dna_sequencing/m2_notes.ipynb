{
 "cells": [
  {
   "cell_type": "markdown",
   "metadata": {},
   "source": [
    "# Module 2: Preprocessing, indexing and approximate matching"
   ]
  },
  {
   "cell_type": "markdown",
   "metadata": {},
   "source": [
    "## Boyer-Moore\n",
    "\n",
    "* an efficient string-searching algorithm\n",
    "* preprocesses the pattern **P** (the string being searched for), but not the text **T** (the string being searched in)\n",
    "* well-suited for applications in which the pattern is much shorter than the text or where it persists across multiple searches\n",
    "* uses information gathered during the preprocess step to skip sections of the text\n",
    "* for each alignment the last character in P is compared first"
   ]
  },
  {
   "cell_type": "markdown",
   "metadata": {},
   "source": [
    "### Bad character rule\n",
    "\n",
    "* considers the character in T at which the comparison process failed (assuming such a failure occurred)\n",
    "* upon missmatch, skip alignments until the missmatch becomes a match or pattern moves past missmatched character.\n",
    "\n",
    "E.g. \n",
    "\n",
    "alignment 1: missmatch\n",
    "```\n",
    "T: GCTTCTGCTACCTTTT\n",
    "P: CCTTTTGC\n",
    "       x✓✓✓\n",
    "```\n",
    "\n",
    "alignment 2: still a missmatch - skip\n",
    "```\n",
    "T: GCTTCTGCTACCTTTT\n",
    "P:  CCTTTTGC\n",
    "       x\n",
    "```\n",
    "\n",
    "alignment 3: still a missmatch - skip\n",
    "```\n",
    "T: GCTTCTGCTACCTTTT\n",
    "P:   CCTTTTGC\n",
    "       x\n",
    "```\n",
    "\n",
    "alignment 4: match - do not skip\n",
    "```\n",
    "T: GCTTCTGCTACCTTTT\n",
    "P:    CCTTTTGC\n",
    "       ✓\n",
    "```"
   ]
  },
  {
   "cell_type": "markdown",
   "metadata": {},
   "source": [
    "### Good suffix rule"
   ]
  },
  {
   "cell_type": "markdown",
   "metadata": {},
   "source": []
  }
 ],
 "metadata": {
  "kernelspec": {
   "display_name": ".venv",
   "language": "python",
   "name": "python3"
  },
  "language_info": {
   "name": "python",
   "version": "3.11.11"
  }
 },
 "nbformat": 4,
 "nbformat_minor": 2
}
