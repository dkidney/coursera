{
 "cells": [
  {
   "cell_type": "markdown",
   "metadata": {},
   "source": [
    "# Module 2: Preprocessing, indexing and approximate matching"
   ]
  },
  {
   "cell_type": "markdown",
   "metadata": {},
   "source": [
    "## Boyer-Moore\n",
    "\n",
    "* an efficient string-searching algorithm\n",
    "* preprocesses the pattern **P** (the string being searched for), but not the text **T** (the string being searched in)\n",
    "* well-suited for applications in which the pattern is much shorter than the text or where it persists across multiple searches\n",
    "* uses information gathered during the preprocess step to skip sections of the text\n",
    "* for each alignment the last character in P is compared first"
   ]
  },
  {
   "cell_type": "markdown",
   "metadata": {},
   "source": [
    "### Bad character rule\n",
    "\n",
    "* considers the character in T at which the comparison process failed (assuming such a failure occurred)\n",
    "* upon missmatch, skip alignments until the missmatch becomes a match or pattern moves past missmatched character.\n",
    "\n",
    "E.g. \n",
    "\n",
    "alignment 1: missmatch\n",
    "```\n",
    "T: GCTTCTGCTACCTTTT\n",
    "P: CCTTTTGC\n",
    "       x✓✓✓\n",
    "```\n",
    "\n",
    "alignment 2: still a missmatch - skip\n",
    "```\n",
    "T: GCTTCTGCTACCTTTT\n",
    "P:  CCTTTTGC\n",
    "       x\n",
    "```\n",
    "\n",
    "alignment 3: still a missmatch - skip\n",
    "```\n",
    "T: GCTTCTGCTACCTTTT\n",
    "P:   CCTTTTGC\n",
    "       x\n",
    "```\n",
    "\n",
    "alignment 4: match - do not skip\n",
    "```\n",
    "T: GCTTCTGCTACCTTTT\n",
    "P:    CCTTTTGC\n",
    "       ✓\n",
    "```"
   ]
  },
  {
   "cell_type": "markdown",
   "metadata": {},
   "source": [
    "### Good suffix rule"
   ]
  },
  {
   "cell_type": "markdown",
   "metadata": {},
   "source": [
    "## K-mer indexing\n",
    "\n",
    "* `k`-mer = substring of `t` of length `k`\n",
    "\n",
    "* For every `k`-mer in `t`, record the index (aka the offset) where it occurs in `t`\n",
    "\n",
    "* For a given pattern `p` can find all the offsets where `p` occurs in `t` using the `k`-mer index\n",
    "\n",
    "  * e.g. take the first `k`-mer in `p` and look it up in the index\n",
    "\n",
    "  * e.g. if a match is found at offset `i` then we know that `p[:k] == t[i:i+k]`\n",
    "  \n",
    "  * next need to verify that the rest of `p` also matches `t` - i.e. we need to check that `p[k:] == t[i+k:i+len(p)]`\n",
    "\n",
    "### Variations\n",
    "\n",
    "* Use every other k-mer "
   ]
  },
  {
   "cell_type": "markdown",
   "metadata": {},
   "source": [
    "## Approximate matching\n",
    "\n",
    "Hamming distance\n",
    "\n",
    "Edit distance (aka Levenstein distance)\n",
    "\n"
   ]
  },
  {
   "cell_type": "markdown",
   "metadata": {},
   "source": [
    "## Pigeonhole principle"
   ]
  },
  {
   "cell_type": "markdown",
   "metadata": {},
   "source": []
  }
 ],
 "metadata": {
  "kernelspec": {
   "display_name": ".venv",
   "language": "python",
   "name": "python3"
  },
  "language_info": {
   "name": "python",
   "version": "3.11.11"
  }
 },
 "nbformat": 4,
 "nbformat_minor": 2
}
