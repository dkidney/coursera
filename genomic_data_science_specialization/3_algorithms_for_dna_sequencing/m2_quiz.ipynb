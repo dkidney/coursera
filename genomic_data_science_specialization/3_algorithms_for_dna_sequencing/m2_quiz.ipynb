{
 "cells": [
  {
   "cell_type": "markdown",
   "metadata": {},
   "source": [
    "## Q1"
   ]
  },
  {
   "cell_type": "markdown",
   "metadata": {},
   "source": [
    "```\n",
    "T: GGCTATAATGCGTA\n",
    "P:  TAATAAA\n",
    "        x✓✓\n",
    "\n",
    "T: GGCTATAATGCGTA\n",
    "P:   TAATAAA\n",
    "        ✓\n",
    "```"
   ]
  },
  {
   "cell_type": "markdown",
   "metadata": {},
   "source": [
    "## Q2"
   ]
  },
  {
   "cell_type": "markdown",
   "metadata": {},
   "source": [
    "```\n",
    "        ttt\n",
    "T: GGCTATAATGCGTA\n",
    "P:  TAATTAA\n",
    "       x✓✓✓\n",
    "\n",
    "        ttt\n",
    "T: GGCTATAATGCGTA\n",
    "P:   TAATTAA\n",
    "        ✓x✓\n",
    "\n",
    "        ttt\n",
    "T: GGCTATAATGCGTA\n",
    "P:    TAATTAA\n",
    "        xxx\n",
    "\n",
    "        ttt\n",
    "T: GGCTATAATGCGTA\n",
    "P:     TAATTAA\n",
    "        x✓x\n",
    "\n",
    "        ttt\n",
    "T: GGCTATAATGCGTA\n",
    "P:      TAATTAA\n",
    "        ✓✓✓\n",
    "```"
   ]
  }
 ],
 "metadata": {
  "language_info": {
   "name": "python"
  }
 },
 "nbformat": 4,
 "nbformat_minor": 2
}
